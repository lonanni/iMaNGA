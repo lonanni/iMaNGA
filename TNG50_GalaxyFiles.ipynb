{
 "cells": [
  {
   "cell_type": "markdown",
   "id": "d9553b30",
   "metadata": {},
   "source": [
    "# Example of how to download particle information \n",
    "# from TNG50 to run the iMaStar and iMaNGA codes"
   ]
  },
  {
   "cell_type": "code",
   "execution_count": 1,
   "id": "31329a38",
   "metadata": {},
   "outputs": [],
   "source": [
    "import numpy as np\n",
    "\n",
    "import astropy.cosmology as co\n",
    "cosmo = co.Planck15\n",
    "import os\n",
    "import astropy.constants as constants\n",
    "import astropy.units as uu"
   ]
  },
  {
   "cell_type": "code",
   "execution_count": 2,
   "id": "11532d2e",
   "metadata": {},
   "outputs": [],
   "source": [
    "import API_functions as API\n",
    "\n",
    "\n",
    "API.headers['api-key']='b65ee99582d40446ede7aa5ed7d79ac4'"
   ]
  },
  {
   "cell_type": "markdown",
   "id": "6b703394",
   "metadata": {},
   "source": [
    "## Define which galaxy you want to observe\n",
    "\n",
    "### https://www.tng-project.org/api/ use the API\n",
    "### to investigate the properties of snapshots and subhaloes\n",
    "\n",
    "##### N.B. in Illustris vocabulary subhalo = \"galaxy\"; halo = \"cluster\"\n",
    "##### N.B. Since the definition of \"galaxy\" in the simulation is not an astrophysics one\n",
    "##### to use them as \"galaxies\"  you need to check if they have more then 10'000 stellar particles\n",
    "##### and cut to outskirt particles (see Fig. 2 in Nanni+2022)"
   ]
  },
  {
   "cell_type": "code",
   "execution_count": 3,
   "id": "d3ac66d7",
   "metadata": {},
   "outputs": [],
   "source": [
    "snap = 33 # this corrisponds to redshift 2\n",
    "gal = 20 # this is the 20th most massive galaxy in the snapshot\n",
    "\n",
    "z = 2\n",
    "\n",
    "namegal = str('snap'+str(snap)+\"gal\"+str(gal))"
   ]
  },
  {
   "cell_type": "markdown",
   "id": "1d0023ff",
   "metadata": {},
   "source": [
    "## Stellar particle information"
   ]
  },
  {
   "cell_type": "code",
   "execution_count": 4,
   "id": "713c1151",
   "metadata": {},
   "outputs": [],
   "source": [
    "fields=[\n",
    "    [4,'Coordinates'],\n",
    "    [4,'GFM_InitialMass'],\n",
    "    [4,'GFM_Metallicity'],\n",
    "    [4,'GFM_StellarFormationTime'],\n",
    "    [4,'Velocities']\n",
    "\n",
    "]\n",
    "\n",
    "# definition of units\n",
    "\n",
    "kpc = float(np.asarray(constants.kpc))\n",
    "h = float(np.asarray(cosmo.h))\n",
    "SolarMass = float(np.asarray(constants.M_sun))\n",
    "scale_factor = 1/(1+z)\n",
    "yr_sec = 3.154e+7"
   ]
  },
  {
   "cell_type": "code",
   "execution_count": 5,
   "id": "3ae51890",
   "metadata": {},
   "outputs": [],
   "source": [
    "data = API.getGalaxy(gal,fields, simulation='TNG50-1', snapshot=snap)"
   ]
  },
  {
   "cell_type": "code",
   "execution_count": 6,
   "id": "2ddbcdde",
   "metadata": {},
   "outputs": [],
   "source": [
    "coordinate = data[0][:,:]*scale_factor/h #stellar particle position in \n",
    "# the simulation box [kpc]\n",
    "\n",
    "mass = data[1][:]*10**10/h # [M_sun]\n",
    "metallicity = data[2][:] # Z\n",
    "SFT = data[3][:] # a at the time of the stellar particle formation\n",
    "vel = data[4][:,:]/np.sqrt(scale_factor) # stellar particle velocity\n",
    "#in the simulation box[km/s]\n"
   ]
  },
  {
   "cell_type": "code",
   "execution_count": 7,
   "id": "d089bf4f",
   "metadata": {},
   "outputs": [],
   "source": [
    "# This can be used as an example of how to obtain other information from TNG50\n",
    "\n",
    "# For iMaNGA, I constructed catalogue files with the info of the galaxies we wanted to observe\n",
    "# Here, I commented out the different entry just because it takes a bit of time"
   ]
  },
  {
   "cell_type": "code",
   "execution_count": 8,
   "id": "623dee0f",
   "metadata": {},
   "outputs": [],
   "source": [
    "# position of the centre of mass of the galaxy:\n",
    "SHP = API.getSubhaloField('SubhaloPos', simulation='TNG50-1', snapshot=snap)[gal]/h\n",
    "\n",
    "# velocity of the centre of mass of the galaxy:\n",
    "subhalovelocity = API.getSubhaloField('SubhaloVel', simulation='TNG50-1', \\\n",
    "                                      snapshot=snap)[gal]/np.sqrt(scale_factor)\n",
    "\n",
    "# mass of the galaxy:\n",
    "#SubhaloMass = API.getSubhaloField('SubhaloMass', simulation='TNG50-1', snapshot=snap)[gal]*cosmo.h\n",
    "\n",
    "#SFR of the galaxy:\n",
    "#SubhaloSFR = API.getSubhaloField('SubhaloSFR', simulation='TNG50-1', snapshot=snap)[gal]\n",
    "\n",
    "#half mass stellar radius of the galaxy:\n",
    "HMSR = API.getSubhaloField('SubhaloHalfmassRadType',snapshot=snap,simulation='TNG50-1')[gal, 4]/h \n",
    "\n",
    "#U, B, V, K, g, r, i, z.\n",
    "\n",
    "#SubhaloStellarPhotometrics_i = iApi.getSubhaloField('SubhaloStellarPhotometrics',\\\n",
    "# simulation='TNG50-1', snapshot=snap)[gal, 6]"
   ]
  },
  {
   "cell_type": "code",
   "execution_count": 9,
   "id": "d712448a",
   "metadata": {},
   "outputs": [],
   "source": [
    "# we assume the centre of mass of the galaxy as frame of reference \n",
    "starx = coordinate[:,0] - SHP[0] \n",
    "stary = coordinate[:,1] - SHP[1]\n",
    "starz = coordinate[:,2] - SHP[2]\n",
    "\n",
    "#computing the radius\n",
    "RadiusStar = np.sqrt((starx)**2 + (stary)**2 + (starz)**2)\n"
   ]
  },
  {
   "cell_type": "code",
   "execution_count": 11,
   "id": "76223b3f",
   "metadata": {},
   "outputs": [],
   "source": [
    "# the following step is necessary to go from the moment \n",
    "# of the stellar birth given as a\n",
    "# to the age of the stars in the moment of the observation \n",
    "\n",
    "RedStar = (1-SFT)/SFT\n",
    "\n",
    "eta = cosmo.lookback_time(RedStar)\n",
    "eta_galaxy = np.asarray(cosmo.lookback_time(z))\n",
    "\n",
    "Eta = np.asarray(eta) - eta_galaxy"
   ]
  },
  {
   "cell_type": "code",
   "execution_count": 12,
   "id": "b2bd7b36",
   "metadata": {},
   "outputs": [],
   "source": [
    "# we go from Z to [Z/H]\n",
    "metallicita = np.log10(metallicity/0.018)\n",
    "\n",
    "# we cut stellar particles outside 15 times the half_mass_stellar_radius\n",
    "StarPosition = coordinate[np.where((SFT > 0) & (RadiusStar < 15.*HMSR)) ] - SHP\n",
    "StarMass = mass[np.where((SFT > 0) & (RadiusStar < 15.*HMSR)) ]\n",
    "StarMet = metallicita[np.where((SFT > 0) & (RadiusStar < 15.*HMSR)) ]\n",
    "Age = Eta[np.where((SFT > 0) & (RadiusStar < 15.*HMSR)) ]\n",
    "Vel = vel[np.where((SFT > 0) & (RadiusStar < 15.*HMSR)) ] - subhalovelocity\n",
    "\n",
    "h_star = np.zeros(np.shape(StarMass))\n"
   ]
  },
  {
   "cell_type": "code",
   "execution_count": 13,
   "id": "4d68d083",
   "metadata": {},
   "outputs": [],
   "source": [
    "# here we distinguish between young and old stellar particles, you can pick your own cut\n",
    "\n",
    "# young stellar particles, i.e. <1 Myr here: \n",
    "array1 = StarPosition[:,0][Age < 10**-3 ]*10**3 #[pc]\n",
    "array2 = StarPosition[:,1][Age < 10**-3 ]*10**3 #[pc]\n",
    "array3 = StarPosition[:,2][Age < 10**-3 ]*10**3 #[pc]\n",
    "\n",
    "array4 = h_star[Age < 10**-3 ] #smoothing parameter\n",
    "array5 = StarMass[Age < 10**-3 ]*10**-7 # computed the [SFR]\n",
    "array6 = 10**StarMet[Age < 10**-3 ] # [Z/H]\n",
    "array7 = 5.*np.ones(np.shape(array6)) # logC for MappingsIII\n",
    "array8 = 5.*np.ones(np.shape(array6)) #logp for MappingsIII\n",
    "array9 = 0.1*np.ones(np.shape(array6)) #fPDR for MappingsIII\n",
    "array10 = Vel[:, 0][Age < 10**-3 ] #[km/s]\n",
    "array11 = Vel[:, 1][Age < 10**-3 ] #[km/s]\n",
    "array12 = Vel[:, 2][Age < 10**-3 ] #[km/s]\n",
    "array13 = StarMass[Age < 10**-3 ] # [M_sun]\n",
    "array14 = StarMet[Age < 10**-3 ] # [Z/H]\n",
    "array15 = Age[:][Age < 10**-3 ] #[Gyr]\n",
    "\n"
   ]
  },
  {
   "cell_type": "code",
   "execution_count": 14,
   "id": "798d6bf9",
   "metadata": {},
   "outputs": [],
   "source": [
    "# old stellar particles, i.e. >1 Myr here: \n",
    "\n",
    "aarray1 = StarPosition[:,0][Age > 10**-3]*10**3 #[pc]\n",
    "aarray2 = StarPosition[:,1][Age > 10**-3]*10**3 #[pc]\n",
    "aarray3 = StarPosition[:,2][Age > 10**-3]*10**3 #[pc]\n",
    "aarray4 = h_star[Age > 10**-3] #smoothing parameter\n",
    "aarray5 = StarMass[Age > 10**-3] # [M_sun]\n",
    "aarray6 = StarMet[Age > 10**-3] # [Z/H]\n",
    "aarray7 = Age[:][Age > 10**-3] #[Gyr]\n",
    "aarray8 = Vel[:, 0][Age > 10**-3] #stellar particle x velocity [km/s]\n",
    "aarray9 = Vel[:, 1][Age > 10**-3] #stellar particle y velocity[km/s]\n",
    "aarray10 = Vel[:, 2][Age > 10**-3] #stellar particle z velocity [km/s]\n",
    "aarray11 = np.ones(len(aarray10))*subhalovelocity[0] #subhalo x velocity [km/s]\n",
    "aarray12 = np.ones(len(aarray10))*subhalovelocity[1] #subhalo y velocity [km/s]\n",
    "aarray13 = np.ones(len(aarray10))*subhalovelocity[2] #subhalo z velocity [km/s]\n"
   ]
  },
  {
   "cell_type": "code",
   "execution_count": 15,
   "id": "456b338c",
   "metadata": {},
   "outputs": [],
   "source": [
    "# construction of the files"
   ]
  },
  {
   "cell_type": "code",
   "execution_count": 16,
   "id": "64a7a13b",
   "metadata": {},
   "outputs": [],
   "source": [
    "os.mkdir(\"./\"+namegal)"
   ]
  },
  {
   "cell_type": "code",
   "execution_count": 17,
   "id": "26c6cb9d",
   "metadata": {},
   "outputs": [],
   "source": [
    "with open(\"./\"+namegal+\"/\"+namegal+'.dat', 'w') as f:\n",
    "    for a, b, c, d, e, ss, tt in zip(aarray1, aarray2, \\\n",
    "                                     aarray3, aarray4, aarray5, aarray6, aarray7):\n",
    "        f.write('{0:} {1:} {2:} {3:} {4:} {5:} {6:}\\n'.format(a, b, c, d, e, ss, tt))\n",
    "\n",
    "with open(\"./\"+namegal+\"/\"+namegal+'velocity.dat', 'w') as f:\n",
    "    for a, b, c, d, e,g in zip(aarray8, aarray9, aarray10, aarray11, aarray12, aarray13):\n",
    "        f.write('{0:} {1:} {2:} {3:} {4:} {5:}\\n'.format(a, b, c, d, e, g))\n",
    "\n",
    "\n",
    "\n",
    "if len(array1)>1:\n",
    "    with open(\"./\"+namegal+\"/\"+namegal+'MIII.dat', 'w') as f:\n",
    "        for a, b, c, d, e, ss, tt, r, s in zip( array1, array2, array3, \\\n",
    "                                               array4, array5, array6, array7, array8, array9):\n",
    "            f.write('{0:} {1:} {2:} {3:} {4:} {5:} {6:} {7:} {8:}\\n'.format(a, b, c, d, e, ss, tt, r, s))\n",
    "\n",
    "    with open(\"./\"+namegal+\"/\"+namegal+'velocityMIII.dat', 'w') as f:\n",
    "        for a, b, c in zip(array10, array11, array12):\n",
    "            f.write('{0:} {1:} {2:}\\n'.format(a, b, c))\n",
    "            \n",
    "    with open(\"./\"+namegal+\"/\"+namegal+'starsMIII.dat', 'w') as f:\n",
    "        for a, b, c in zip(array13, array14, array15):\n",
    "            f.write('{0:} {1:} {2:}\\n'.format(a, b, c))\n"
   ]
  },
  {
   "cell_type": "markdown",
   "id": "48d485e9",
   "metadata": {},
   "source": [
    "## Gas particles information"
   ]
  },
  {
   "cell_type": "code",
   "execution_count": 20,
   "id": "ef0dbade",
   "metadata": {},
   "outputs": [],
   "source": [
    "fields_dust=[\n",
    "    [0,'Coordinates'],\n",
    "    [0, 'Masses'],\n",
    "    [0,'GFM_Metallicity'],\n",
    "    [0,'InternalEnergy'],\n",
    "    [0,'ElectronAbundance'],\n",
    "    [0,'StarFormationRate'], \n",
    "    [0, 'Velocities']\n",
    "]\n",
    "\n",
    "\n",
    "data_dust = API.getGalaxy(gal,fields_dust, simulation='TNG50-1', snapshot=snap)\n"
   ]
  },
  {
   "cell_type": "code",
   "execution_count": null,
   "id": "b4bfb393",
   "metadata": {},
   "outputs": [],
   "source": [
    "#gas particle information:"
   ]
  },
  {
   "cell_type": "code",
   "execution_count": 21,
   "id": "d97ddd9b",
   "metadata": {},
   "outputs": [],
   "source": [
    "coordinategas = data_dust[0][:,:]*scale_factor/h  #[kpc] \n",
    "massgas = data_dust[1][:]*10**10/h #M_sun\n",
    "metallicitygas = data_dust[2][:] # Z\n",
    "Energy = data_dust[3][:]\n",
    "ElecAbb = data_dust[4][:]\n",
    "SFRgas = data_dust[5][:]\n",
    "vel_gas = data_dust[6][:,:]/np.sqrt(scale_factor) #[km/s]\n",
    "\n",
    "RadiusDustC = ((coordinategas[:,0]-SHP[0])**2+\\\n",
    "               (coordinategas[:,1]-SHP[1])**2+(coordinategas[:,2]-SHP[2])**2)\n",
    "\n",
    "RadiusDust = np.sqrt(RadiusDustC)\n",
    "VelGas = vel_gas - subhalovelocity\n",
    "\n",
    "Xh=0.76\n",
    "gamma=5./3.\n",
    "mp=1.6726e-24 # g\n",
    "kb= 1.3807e-16\n",
    "\n",
    "# computing the dust temperature \n",
    "T=(gamma-1.)*(Energy/kb)*(4./(1.+3.*Xh+4.*Xh*ElecAbb))*mp*10**10\n"
   ]
  },
  {
   "cell_type": "code",
   "execution_count": 22,
   "id": "2aba3101",
   "metadata": {},
   "outputs": [],
   "source": [
    "Dust_pos_x = (coordinategas[:,0]-SHP[0])*10**3 #pc\n",
    "Dust_pos_y = (coordinategas[:,1]-SHP[1])*10**3 #pc\n",
    "Dust_pos_z = (coordinategas[:,2]-SHP[2])*10**3 #pc\n",
    "\n",
    "# cutting particles outside 15HMSR\n",
    "dust_x = Dust_pos_x[ (SFRgas>0.) & (RadiusDust<15.*HMSR)]\n",
    "dust_y = Dust_pos_y[ (SFRgas>0.) & (RadiusDust<15.*HMSR)]\n",
    "VelGas = VelGas[ (SFRgas>0.) & (RadiusDust<15.*HMSR)]\n",
    "\n",
    "aarray6 = dust_x\n",
    "aarray7 = dust_y\n",
    "aarray8 = VelGas[:, 0]\n",
    "aarray9 = VelGas[:, 1]\n",
    "aarray10 = VelGas[:, 2]"
   ]
  },
  {
   "cell_type": "code",
   "execution_count": 23,
   "id": "123ee54a",
   "metadata": {},
   "outputs": [],
   "source": [
    "with open(\"./\"+namegal+\"/\"+namegal+'velocityGas.dat', 'w') as f:\n",
    "    for a, b, c, d,e in zip(aarray6, aarray7, aarray8, aarray9, aarray10):\n",
    "        f.write('{0:} {1:} {2:} {3:} {4:}\\n'.format(a, b, c, d,e))\n"
   ]
  },
  {
   "cell_type": "code",
   "execution_count": 24,
   "id": "513e9910",
   "metadata": {},
   "outputs": [],
   "source": [
    "from scipy import spatial\n",
    "from sklearn.neighbors import KDTree"
   ]
  },
  {
   "cell_type": "code",
   "execution_count": 25,
   "id": "75050c9e",
   "metadata": {},
   "outputs": [],
   "source": [
    "# here we remuve the dast particles in the same region as MIII regions\n",
    "# since MIII alread account for dust\n",
    "\n",
    "if len(array1)>1:\n",
    "    from scipy import spatial\n",
    "    gas_position = np.column_stack((Dust_pos_x,Dust_pos_y, Dust_pos_z))\n",
    "    miii_position = np.column_stack((array1,array2, array3))\n",
    "\n",
    "    tree = spatial.KDTree(gas_position)\n",
    "    gas_id = tree.query_ball_point(miii_position, r=100)\n",
    "    \n",
    "    gas_id_arr = []\n",
    "    for i in range(len(gas_id)):\n",
    "        for j in range(len(gas_id[i])):\n",
    "            gas_id_arr.append(gas_id[i][j])\n",
    "            \n",
    "    massgas = np.delete(massgas, gas_id_arr)\n",
    "    metallicitygas = np.delete(metallicitygas, gas_id_arr)\n",
    "    T = np.delete(T , gas_id_arr)\n",
    "    coordinategas = np.delete(coordinategas, gas_id_arr, axis=0)\n",
    "    RadiusDust = np.delete(RadiusDust, gas_id_arr)\n",
    "    SFRgas = np.delete(SFRgas, gas_id_arr)\n",
    "    "
   ]
  },
  {
   "cell_type": "code",
   "execution_count": 26,
   "id": "cd5d0a3e",
   "metadata": {},
   "outputs": [],
   "source": [
    "DustPosit = coordinategas[np.where((RadiusDust<15.*HMSR)& (np.logical_or(SFRgas>0,T<=8000 ))) ] - SHP\n",
    "DustMasse = massgas[np.where((RadiusDust<15.*HMSR)& (np.logical_or(SFRgas>0,T<=8000 ))) ]\n",
    "DustZ = metallicitygas[np.where((RadiusDust<15.*HMSR)& (np.logical_or(SFRgas>0,T<=8000 ))) ]\n",
    "DustT = T[np.where((RadiusDust<15.*HMSR)& (np.logical_or(SFRgas>0,T<=8000 ))) ]\n",
    "\n",
    "if len(DustZ)>100: # since running RT is really heavy, \n",
    "    #it is better to put a cut on how many particles you want before running it, to not run it for no real reason\n",
    "\tTree = np.array(DustPosit)\n",
    "\tkdt = KDTree(Tree, leaf_size=30, metric='euclidean')\n",
    "\tTreedx, ndx = kdt.query(Tree, k=8, return_distance=True)\n",
    "\thdust = Treedx[:,7]*10**3\n",
    "\tarray1 = DustPosit[:,0]*10**3\n",
    "\tarray2 = DustPosit[:,1]*10**3\n",
    "\tarray3 = DustPosit[:,2]*10**3\n",
    "\tarray4 = np.asarray(hdust)\n",
    "\tarray5 = DustMasse\n",
    "\tarray6 = np.asarray(DustZ)\n",
    "\tarray7 = np.asarray(DustT)\n",
    "\tif len(array1)>0:\n",
    "    \t\twith open(\"./\"+namegal+\"/\"+namegal+'dust.dat', 'w') as f:\n",
    "        \t\tfor a, b, c, d, e, ff, gg in zip( array1, array2, array3, array4, array5, array6, array7):\n",
    "            \t\t\tf.write('{0:} {1:} {2:} {3:} {4:} {5:} {6:}\\n'.format(a, b, c, d, e, ff, gg))\n",
    "\n",
    "\n",
    "\n",
    "\n"
   ]
  }
 ],
 "metadata": {
  "kernelspec": {
   "display_name": "Python 3 (ipykernel)",
   "language": "python",
   "name": "python3"
  },
  "language_info": {
   "codemirror_mode": {
    "name": "ipython",
    "version": 3
   },
   "file_extension": ".py",
   "mimetype": "text/x-python",
   "name": "python",
   "nbconvert_exporter": "python",
   "pygments_lexer": "ipython3",
   "version": "3.7.12"
  }
 },
 "nbformat": 4,
 "nbformat_minor": 5
}
