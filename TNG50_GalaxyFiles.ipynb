{
 "cells": [
  {
   "cell_type": "code",
   "execution_count": null,
   "id": "ea2af46b",
   "metadata": {},
   "outputs": [],
   "source": [
    "import numpy as np\n",
    "\n",
    "import astropy.cosmology as co\n",
    "cosmo = co.Planck15\n",
    "import os\n",
    "import astropy.constants as constants\n",
    "import astropy.units as uu"
   ]
  },
  {
   "cell_type": "code",
   "execution_count": 2,
   "id": "1ff939c9",
   "metadata": {},
   "outputs": [],
   "source": [
    "import API_functions as API\n",
    "\n",
    "\n",
    "API.headers['api-key']='b65ee99582d40446ede7aa5ed7d79ac4'"
   ]
  },
  {
   "cell_type": "markdown",
   "id": "f288602d",
   "metadata": {},
   "source": [
    "## Define which galaxy you want to observe\n",
    "\n",
    "### https://www.tng-project.org/api/ use the API to investigate the properties of snapshots and subhaloes\n",
    "\n",
    "##### N.B. in Illustris vocabulary subhalo = \"galaxy\"; halo = \"cluster\"\n",
    "##### N.B. \"galaxy\"/\"halo\" because this is a \"computional/simulation\" definition, not an astrophysics one, but it is ok to use them as galaxies if you check you have more then 10'000 stellar particles and cut to outskirt particles (see Fig. 2 in Nanni+2022)"
   ]
  },
  {
   "cell_type": "code",
   "execution_count": 3,
   "id": "55b8b7ed",
   "metadata": {},
   "outputs": [],
   "source": [
    "snap = 33 # this corrisponds to redshift 2\n",
    "gal = 20 # this is the 20th most massive galaxy in the snapshot\n",
    "\n",
    "z = 2\n",
    "\n",
    "namegal = str('snap'+str(snap)+\"gal\"+str(gal))"
   ]
  },
  {
   "cell_type": "markdown",
   "id": "85fc01cf",
   "metadata": {},
   "source": [
    "## Stellar particle information"
   ]
  },
  {
   "cell_type": "code",
   "execution_count": 4,
   "id": "dd365372",
   "metadata": {},
   "outputs": [],
   "source": [
    "fields=[\n",
    "    [4,'Coordinates'],\n",
    "    [4,'GFM_InitialMass'],\n",
    "    [4,'GFM_Metallicity'],\n",
    "    [4,'GFM_StellarFormationTime'],\n",
    "    [4,'Velocities']\n",
    "\n",
    "]\n",
    "\n",
    "# definition of units\n",
    "\n",
    "kpc = float(np.asarray(constants.kpc))\n",
    "h = float(np.asarray(cosmo.h))\n",
    "SolarMass = float(np.asarray(constants.M_sun))\n",
    "scale_factor = 1/(1+z)\n",
    "yr_sec = 3.154e+7"
   ]
  },
  {
   "cell_type": "code",
   "execution_count": 5,
   "id": "017ea96f",
   "metadata": {},
   "outputs": [],
   "source": [
    "data = API.getGalaxy(gal,fields, simulation='TNG50-1', snapshot=snap)"
   ]
  },
  {
   "cell_type": "code",
   "execution_count": 6,
   "id": "6899877b",
   "metadata": {},
   "outputs": [],
   "source": [
    "coordinate = data[0][:,:]*scale_factor/h\n",
    "mass = data[1][:]*10**10/h\n",
    "metallicity = data[2][:]\n",
    "SFT = data[3][:]\n",
    "vel = data[4][:,:]/np.sqrt(scale_factor)\n"
   ]
  },
  {
   "cell_type": "code",
   "execution_count": 11,
   "id": "91540c81",
   "metadata": {},
   "outputs": [],
   "source": [
    "# This can be used as an example of how to obtain other information\n",
    "# For iMaNGA, I constructed catalogue files with the info of the galaxies we wanted to observe\n",
    "# Here, I commented out the different entry just because it takes a bit of time"
   ]
  },
  {
   "cell_type": "code",
   "execution_count": 19,
   "id": "1f7c123d",
   "metadata": {},
   "outputs": [],
   "source": [
    "SHP = API.getSubhaloField('SubhaloPos', simulation='TNG50-1', snapshot=snap)[gal]/h#a*3.086e+19\n",
    "#- - - - - - -- - - - - - - - - - - -  - - - - - - - - - - - - - - - - - - - - - - - - - - - - - - - - - - - - - - -  -\n",
    "\n",
    "subhalovelocity = API.getSubhaloField('SubhaloVel', simulation='TNG50-1', snapshot=snap)[gal]/np.sqrt(scale_factor)\n",
    "\n",
    "\n",
    "#SubhaloMass = API.getSubhaloField('SubhaloMass', simulation='TNG50-1', snapshot=snap)[gal]*cosmo.h\n",
    "#SubhaloSFR = API.getSubhaloField('SubhaloSFR', simulation='TNG50-1', snapshot=snap)[gal]\n",
    "HMSR = API.getSubhaloField('SubhaloHalfmassRadType',snapshot=snap,simulation='TNG50-1')[gal, 4]/h \n",
    "\n",
    "#U, B, V, K, g, r, i, z.\n",
    "\n",
    "#SubhaloStellarPhotometrics_i = iApi.getSubhaloField('SubhaloStellarPhotometrics', simulation='TNG50-1', snapshot=snap)[gal, 6]"
   ]
  },
  {
   "cell_type": "code",
   "execution_count": 12,
   "id": "a83585e2",
   "metadata": {},
   "outputs": [],
   "source": [
    "starx = coordinate[:,0] - SHP[0]\n",
    "stary = coordinate[:,1] - SHP[1]\n",
    "starz = coordinate[:,2] - SHP[2]\n",
    "RadiusStar = np.sqrt((starx)**2 + (stary)**2 + (starz)**2)\n"
   ]
  },
  {
   "cell_type": "code",
   "execution_count": 14,
   "id": "f2d5ab21",
   "metadata": {},
   "outputs": [],
   "source": [
    "# this is necessary to go from the moment \n",
    "# of the stellar birth to the age of the stars in the moment of the observation "
   ]
  },
  {
   "cell_type": "code",
   "execution_count": 15,
   "id": "187d6ae2",
   "metadata": {},
   "outputs": [],
   "source": [
    "RedStar = (1-SFT)/SFT\n",
    "\n",
    "eta = cosmo.lookback_time(RedStar)\n",
    "eta_galaxy = np.asarray(cosmo.lookback_time(z))\n",
    "\n",
    "Eta = np.asarray(eta) - eta_galaxy"
   ]
  },
  {
   "cell_type": "code",
   "execution_count": 20,
   "id": "babc1c64",
   "metadata": {},
   "outputs": [],
   "source": [
    "metallicita = np.log10(metallicity/0.018)\n",
    "\n",
    "# we cut stellar particles outside 15 times the half_mass_stellar_radius\n",
    "\n",
    "StarPosition = coordinate[np.where((SFT > 0) & (RadiusStar < 15.*HMSR)) ] - SHP\n",
    "StarMass = mass[np.where((SFT > 0) & (RadiusStar < 15.*HMSR)) ]\n",
    "StarMet = metallicita[np.where((SFT > 0) & (RadiusStar < 15.*HMSR)) ]\n",
    "Age = Eta[np.where((SFT > 0) & (RadiusStar < 15.*HMSR)) ]\n",
    "Vel = vel[np.where((SFT > 0) & (RadiusStar < 15.*HMSR)) ] - subhalovelocity\n",
    "\n",
    "h_star = np.zeros(np.shape(StarMass))\n"
   ]
  },
  {
   "cell_type": "code",
   "execution_count": 21,
   "id": "49fd2d83",
   "metadata": {},
   "outputs": [],
   "source": [
    "array1 = StarPosition[:,0][Age < 10**-3 ]*10**3 #here we distinguish between young and old stellar particles, you can pick your cut\n",
    "array2 = StarPosition[:,1][Age < 10**-3 ]*10**3\n",
    "array3 = StarPosition[:,2][Age < 10**-3 ]*10**3\n",
    "array4 = h_star[Age < 10**-3 ]\n",
    "array5 = StarMass[Age < 10**-3 ]*10**-7\n",
    "array6 = 10**StarMet[Age < 10**-3 ]\n",
    "array7 = 5.*np.ones(np.shape(array6))\n",
    "array8 = 5.*np.ones(np.shape(array6))\n",
    "array9 = 0.1*np.ones(np.shape(array6))\n",
    "array10 = Vel[:, 0][Age < 10**-3 ]\n",
    "array11 = Vel[:, 1][Age < 10**-3 ]\n",
    "array12 = Vel[:, 2][Age < 10**-3 ]\n",
    "array13 = StarMass[Age < 10**-3 ]\n",
    "array14 = StarMet[Age < 10**-3 ]\n",
    "array15 = Age[:][Age < 10**-3 ]\n",
    "\n"
   ]
  },
  {
   "cell_type": "code",
   "execution_count": 22,
   "id": "edda551e",
   "metadata": {},
   "outputs": [],
   "source": [
    "aarray1 = StarPosition[:,0][Age > 10**-3]*10**3\n",
    "aarray2 = StarPosition[:,1][Age > 10**-3]*10**3\n",
    "aarray3 = StarPosition[:,2][Age > 10**-3]*10**3\n",
    "aarray4 = h_star[Age > 10**-3]\n",
    "aarray5 = StarMass[Age > 10**-3]\n",
    "aarray6 = StarMet[Age > 10**-3]\n",
    "aarray7 = Age[:][Age > 10**-3]\n",
    "aarray8 = Vel[:, 0][Age > 10**-3]\n",
    "aarray9 = Vel[:, 1][Age > 10**-3]\n",
    "aarray10 = Vel[:, 2][Age > 10**-3]\n",
    "aarray11 = np.ones(len(aarray10))*subhalovelocity[0]\n",
    "aarray12 = np.ones(len(aarray10))*subhalovelocity[1]\n",
    "aarray13 = np.ones(len(aarray10))*subhalovelocity[2]\n"
   ]
  },
  {
   "cell_type": "code",
   "execution_count": 23,
   "id": "e55e5716",
   "metadata": {},
   "outputs": [],
   "source": [
    "# construction of the files"
   ]
  },
  {
   "cell_type": "code",
   "execution_count": 29,
   "id": "c1bf2321",
   "metadata": {},
   "outputs": [],
   "source": [
    "os.mkdir(\"./\"+namegal)"
   ]
  },
  {
   "cell_type": "code",
   "execution_count": 30,
   "id": "7b9185ca",
   "metadata": {},
   "outputs": [],
   "source": [
    "with open(\"./\"+namegal+\"/\"+namegal+'.dat', 'w') as f:\n",
    "    for a, b, c, d, e, ss, tt in zip(aarray1, aarray2, aarray3, aarray4, aarray5, aarray6, aarray7):\n",
    "        f.write('{0:} {1:} {2:} {3:} {4:} {5:} {6:}\\n'.format(a, b, c, d, e, ss, tt))\n",
    "\n",
    "with open(\"./\"+namegal+\"/\"+namegal+'velocity.dat', 'w') as f:\n",
    "    for a, b, c, d, e,g in zip(aarray8, aarray9, aarray10, aarray11, aarray12, aarray13):\n",
    "        f.write('{0:} {1:} {2:} {3:} {4:} {5:}\\n'.format(a, b, c, d, e, g))\n",
    "\n",
    "\n",
    "\n",
    "if len(array1)>1:\n",
    "    with open(\"./\"+namegal+\"/\"+namegal+'MIII.dat', 'w') as f:\n",
    "        for a, b, c, d, e, ss, tt, r, s in zip( array1, array2, array3, array4, array5, array6, array7, array8, array9):\n",
    "            f.write('{0:} {1:} {2:} {3:} {4:} {5:} {6:} {7:} {8:}\\n'.format(a, b, c, d, e, ss, tt, r, s))\n",
    "\n",
    "    with open(\"./\"+namegal+\"/\"+namegal+'velocityMIII.dat', 'w') as f:\n",
    "        for a, b, c in zip(array10, array11, array12):\n",
    "            f.write('{0:} {1:} {2:}\\n'.format(a, b, c))\n",
    "            \n",
    "    with open(\"./\"+namegal+\"/\"+namegal+'starsMIII.dat', 'w') as f:\n",
    "        for a, b, c in zip(array13, array14, array15):\n",
    "            f.write('{0:} {1:} {2:}\\n'.format(a, b, c))\n"
   ]
  },
  {
   "cell_type": "code",
   "execution_count": 32,
   "id": "0201393a",
   "metadata": {},
   "outputs": [],
   "source": [
    "Metallicity = metallicity[np.where((SFT > 0) & (RadiusStar < 15.*HMSR)) ]\n",
    "s_array1 = StarPosition[:,0][Age > 10**-3]*10**3\n",
    "s_array2 = StarPosition[:,1][Age > 10**-3]*10**3\n",
    "s_array3 = StarPosition[:,2][Age > 10**-3]*10**3\n",
    "s_array4 = h_star[Age > 10**-3]\n",
    "s_array5 = StarMass[Age > 10**-3]\n",
    "s_array6 = Metallicity[Age > 10**-3]\n",
    "s_array7 = Age[:][Age > 10**-3]*10**9\n"
   ]
  },
  {
   "cell_type": "code",
   "execution_count": 33,
   "id": "2315b94a",
   "metadata": {},
   "outputs": [],
   "source": [
    "#files to run SKIRT\n",
    "\n",
    "with open(\"./\"+namegal+\"/\"+namegal+'_skirt.dat', 'w') as f:\n",
    "    for a, b, c, d, e, ss, tt in zip(s_array1, s_array2, s_array3, s_array4, s_array5, s_array6, s_array7):\n",
    "        f.write('{0:} {1:} {2:} {3:} {4:} {5:} {6:}\\n'.format(a, b, c, d, e, ss, tt))\n"
   ]
  },
  {
   "cell_type": "markdown",
   "id": "465f4406",
   "metadata": {},
   "source": [
    "## Gas particles information"
   ]
  },
  {
   "cell_type": "code",
   "execution_count": 34,
   "id": "48f56d07",
   "metadata": {},
   "outputs": [],
   "source": [
    "fields_dust=[\n",
    "    [0,'Coordinates'],\n",
    "    [0, 'Masses'],\n",
    "    [0,'GFM_Metallicity'],\n",
    "    [0,'InternalEnergy'],\n",
    "    [0,'ElectronAbundance'],\n",
    "    [0,'StarFormationRate'], \n",
    "    [0, 'Velocities']\n",
    "]\n",
    "\n",
    "\n",
    "data_dust = API.getGalaxy(gal,fields_dust, simulation='TNG50-1', snapshot=snap)\n"
   ]
  },
  {
   "cell_type": "code",
   "execution_count": 35,
   "id": "cdf8bfb2",
   "metadata": {},
   "outputs": [],
   "source": [
    "coordinategas = data_dust[0][:,:]*scale_factor/h  \n",
    "massgas = data_dust[1][:]*10**10/h \n",
    "metallicitygas = data_dust[2][:]\n",
    "Energy = data_dust[3][:]\n",
    "ElecAbb = data_dust[4][:]\n",
    "SFRgas = data_dust[5][:]\n",
    "vel_gas = data_dust[6][:,:]/np.sqrt(scale_factor)\n",
    "\n",
    "RadiusDustC = ((coordinategas[:,0]-SHP[0])**2+(coordinategas[:,1]-SHP[1])**2+(coordinategas[:,2]-SHP[2])**2)\n",
    "RadiusDust = np.sqrt(RadiusDustC)\n",
    "VelGas = vel_gas - subhalovelocity\n",
    "\n",
    "Xh=0.76\n",
    "gamma=5./3.\n",
    "mp=1.6726e-24 # g\n",
    "kb= 1.3807e-16\n",
    "\n",
    "# computing the dust temperature \n",
    "T=(gamma-1.)*(Energy/kb)*(4./(1.+3.*Xh+4.*Xh*ElecAbb))*mp*10**10\n"
   ]
  },
  {
   "cell_type": "code",
   "execution_count": 36,
   "id": "5bc23d2b",
   "metadata": {},
   "outputs": [],
   "source": [
    "Dust_pos_x = (coordinategas[:,0]-SHP[0])*10**3\n",
    "Dust_pos_y = (coordinategas[:,1]-SHP[1])*10**3\n",
    "Dust_pos_z = (coordinategas[:,2]-SHP[2])*10**3\n",
    "\n",
    "dust_x = Dust_pos_x[ (SFRgas>0.) & (RadiusDust<15.*HMSR)]\n",
    "dust_y = Dust_pos_y[ (SFRgas>0.) & (RadiusDust<15.*HMSR)]\n",
    "VelGas = VelGas[ (SFRgas>0.) & (RadiusDust<15.*HMSR)]\n",
    "aarray6 = dust_x\n",
    "aarray7 = dust_y\n",
    "aarray8 = VelGas[:, 0]\n",
    "aarray9 = VelGas[:, 1]\n",
    "aarray10 = VelGas[:, 2]"
   ]
  },
  {
   "cell_type": "code",
   "execution_count": 38,
   "id": "010ed4d2",
   "metadata": {},
   "outputs": [],
   "source": [
    "with open(\"./\"+namegal+\"/\"+namegal+'velocityGas.dat', 'w') as f:\n",
    "    for a, b, c, d,e in zip(aarray6, aarray7, aarray8, aarray9, aarray10):\n",
    "        f.write('{0:} {1:} {2:} {3:} {4:}\\n'.format(a, b, c, d,e))\n"
   ]
  },
  {
   "cell_type": "code",
   "execution_count": 40,
   "id": "edf92f02",
   "metadata": {},
   "outputs": [],
   "source": [
    "from scipy import spatial\n",
    "from sklearn.neighbors import KDTree"
   ]
  },
  {
   "cell_type": "code",
   "execution_count": 41,
   "id": "1574e4ae",
   "metadata": {},
   "outputs": [],
   "source": [
    "if len(array1)>1:\n",
    "    from scipy import spatial\n",
    "    gas_position = np.column_stack((Dust_pos_x,Dust_pos_y, Dust_pos_z))\n",
    "    miii_position = np.column_stack((array1,array2, array3))\n",
    "\n",
    "    tree = spatial.KDTree(gas_position)\n",
    "    gas_id = tree.query_ball_point(miii_position, r=100)\n",
    "    \n",
    "    gas_id_arr = []\n",
    "    for i in range(len(gas_id)):\n",
    "        for j in range(len(gas_id[i])):\n",
    "            gas_id_arr.append(gas_id[i][j])\n",
    "            \n",
    "    massgas = np.delete(massgas, gas_id_arr)\n",
    "    metallicitygas = np.delete(metallicitygas, gas_id_arr)\n",
    "    T = np.delete(T , gas_id_arr)\n",
    "    coordinategas = np.delete(coordinategas, gas_id_arr, axis=0)\n",
    "    RadiusDust = np.delete(RadiusDust, gas_id_arr)\n",
    "    SFRgas = np.delete(SFRgas, gas_id_arr)\n",
    "    "
   ]
  },
  {
   "cell_type": "code",
   "execution_count": 43,
   "id": "34a2fade",
   "metadata": {},
   "outputs": [],
   "source": [
    "DustPosit = coordinategas[np.where((RadiusDust<15.*HMSR)& (np.logical_or(SFRgas>0,T<=8000 ))) ] - SHP\n",
    "DustMasse = massgas[np.where((RadiusDust<15.*HMSR)& (np.logical_or(SFRgas>0,T<=8000 ))) ]\n",
    "DustZ = metallicitygas[np.where((RadiusDust<15.*HMSR)& (np.logical_or(SFRgas>0,T<=8000 ))) ]\n",
    "DustT = T[np.where((RadiusDust<15.*HMSR)& (np.logical_or(SFRgas>0,T<=8000 ))) ]\n",
    "\n",
    "if len(DustZ)>100: # since running RT is really heavy, \n",
    "    #it is better to put a cut on how many particles you want before running it, to not run it for no real reason\n",
    "\tTree = np.array(DustPosit)\n",
    "\tkdt = KDTree(Tree, leaf_size=30, metric='euclidean')\n",
    "\tTreedx, ndx = kdt.query(Tree, k=8, return_distance=True)\n",
    "\thdust = Treedx[:,7]*10**3\n",
    "\tarray1 = DustPosit[:,0]*10**3\n",
    "\tarray2 = DustPosit[:,1]*10**3\n",
    "\tarray3 = DustPosit[:,2]*10**3\n",
    "\tarray4 = np.asarray(hdust)\n",
    "\tarray5 = DustMasse\n",
    "\tarray6 = np.asarray(DustZ)\n",
    "\tarray7 = np.asarray(DustT)\n",
    "\tif len(array1)>0:\n",
    "    \t\twith open(\"./\"+namegal+\"/\"+namegal+'dust.dat', 'w') as f:\n",
    "        \t\tfor a, b, c, d, e, ff, gg in zip( array1, array2, array3, array4, array5, array6, array7):\n",
    "            \t\t\tf.write('{0:} {1:} {2:} {3:} {4:} {5:} {6:}\\n'.format(a, b, c, d, e, ff, gg))\n",
    "\n",
    "\n",
    "\n",
    "\n"
   ]
  },
  {
   "cell_type": "code",
   "execution_count": null,
   "id": "7028ce15",
   "metadata": {},
   "outputs": [],
   "source": []
  }
 ],
 "metadata": {
  "kernelspec": {
   "display_name": "Python 3 (ipykernel)",
   "language": "python",
   "name": "python3"
  },
  "language_info": {
   "codemirror_mode": {
    "name": "ipython",
    "version": 3
   },
   "file_extension": ".py",
   "mimetype": "text/x-python",
   "name": "python",
   "nbconvert_exporter": "python",
   "pygments_lexer": "ipython3",
   "version": "3.7.12"
  }
 },
 "nbformat": 4,
 "nbformat_minor": 5
}
